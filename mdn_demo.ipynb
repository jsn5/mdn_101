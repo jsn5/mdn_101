{
 "cells": [
  {
   "cell_type": "markdown",
   "metadata": {
    "slideshow": {
     "slide_type": "slide"
    }
   },
   "source": [
    "<h1 align=\"center\">Modelling Uncertainity using Mixture Density Networks</h1>\n",
    "\n",
    "<h4 align=\"center\">Jaison Saji Chacko</h4>"
   ]
  },
  {
   "cell_type": "markdown",
   "metadata": {
    "slideshow": {
     "slide_type": "slide"
    }
   },
   "source": [
    "<h2 align=\"center\">Categorical vs Continuos models</h2>\n",
    "<img src=\"images/categorical_vs_continuos.png\"/>"
   ]
  },
  {
   "cell_type": "markdown",
   "metadata": {
    "slideshow": {
     "slide_type": "slide"
    }
   },
   "source": [
    "<h2 align=\"center\">Normal Gaussian Distribution</h2>\n",
    "\n",
    "<img align=\"left\" src=\"images/normal_distribution.png\"/>\n",
    "<h4 align=\"left\">\"Standard\" probability distribution has two parameter:</h4>\n",
    "\n",
    "\n",
    "       \n"
   ]
  },
  {
   "cell_type": "markdown",
   "metadata": {
    "slideshow": {
     "slide_type": "slide"
    }
   },
   "source": [
    "<h2 align=\"center\">Normal Gaussian Distribution</h2>\n",
    "\n",
    "\n",
    "<img align=\"left\" src=\"images/normal_distribution.png\"/>\n",
    "<h3 aligh=\"left\">\"Standard\" probability distribution has two parameter:</h3>\n",
    "</br>\n",
    "<ul align=\"right\">\n",
    "    <li>mean(μ)</li>\n",
    "    <li>standard deviation (σ)</li>\n",
    "</ul>\n",
    "       \n"
   ]
  },
  {
   "cell_type": "markdown",
   "metadata": {
    "slideshow": {
     "slide_type": "slide"
    }
   },
   "source": [
    "<h2 align=\"center\">Normal Gaussian Distribution</h2>\n",
    "\n",
    "\n",
    "<img align=\"left\" src=\"images/unimodal_normal_fit.png\"/>\n",
    "<h3>\"Standard\" probability distribution has two parameter:</h3>\n",
    "\n",
    "<ul align=\"right\">\n",
    "    <li>mean(μ)</li>\n",
    "    <li>standard deviation (σ)</li>\n",
    "</ul>\n",
    "       \n",
    "\n",
    "<b align=\"right\">Probability Density Function</b>\n",
    "\n",
    "<img src=\"images/pdf.png\"/>\n",
    "       \n"
   ]
  },
  {
   "cell_type": "markdown",
   "metadata": {
    "slideshow": {
     "slide_type": "slide"
    }
   },
   "source": [
    "<h2 align=\"center\">Problem: Normal Distribution might not fit data</h2>\n",
    "\n",
    "<h3>What if the data is not \"normal\"?</h3>\n",
    "<img src=\"images/multimodal_normal_fit.png\"/>\n",
    "\n",
    "\n"
   ]
  },
  {
   "cell_type": "markdown",
   "metadata": {
    "slideshow": {
     "slide_type": "slide"
    }
   },
   "source": [
    "<h2 align=\"center\">Solution: Mixture of gaussian models</h2>\n",
    "\n",
    "<img align=\"left\" src=\"images/mixture_model_fit.png\"/>\n"
   ]
  },
  {
   "cell_type": "markdown",
   "metadata": {},
   "source": [
    "<h2 align=\"center\">Solution: Mixture of gaussian models</h2>\n",
    "\n",
    "<img align=\"left\" src=\"images/mixture_model_fit.png\"/>\n",
    "\n",
    "<h3> Mixture models have 3 parameters </h3>\n",
    "\n",
    "     "
   ]
  },
  {
   "cell_type": "markdown",
   "metadata": {},
   "source": [
    "<h2 align=\"center\">Solution: Mixture of gaussian models</h2>\n",
    "\n",
    "<img align=\"left\" src=\"images/mixture_model_fit.png\"/>\n",
    "\n",
    "<h3> Mixture models have 3 parameters </h3>\n",
    "\n",
    "<ul align=\"right\">\n",
    "    <li>mean(μ): location of the component</li>\n",
    "    <li>standard deviation (σ): width of the component &</li>\n",
    "    <li>Weight (π): height of the component</li>\n",
    "</ul>\n",
    "     "
   ]
  },
  {
   "cell_type": "markdown",
   "metadata": {
    "slideshow": {
     "slide_type": "slide"
    }
   },
   "source": [
    "<h2 align=\"center\">Solution: Mixture of gaussian models</h2>\n",
    "\n",
    "<img align=\"left\" src=\"images/mixture_model_fit.png\"/>\n",
    "\n",
    "<h3> Mixture models have 3 parameters </h3>\n",
    "\n",
    "<ul align=\"right\">\n",
    "    <li>mean(μ): location of the component</li>\n",
    "    <li>standard deviation (σ): width of the component &</li>\n",
    "    <li>Weight (π): height of the component</li>\n",
    "</ul>\n",
    "       \n",
    "\n",
    "<b align=\"right\">Probability Density Function</b>\n",
    "\n",
    "<img src=\"images/mdn_pdf.png\"/>\n",
    "\n"
   ]
  },
  {
   "cell_type": "markdown",
   "metadata": {
    "slideshow": {
     "slide_type": "slide"
    }
   },
   "source": [
    "<h2 align=\"center\"> Mixture Density Networks </h2>\n",
    "\n",
    "\n",
    "<img src=\"images/mdn_unimodal.png\"/>\n",
    "\n",
    "Modelling complicated real-valued data that might not be \"normal\".\n",
    "\n",
    "<ul>\n",
    "    <li>Naive approach: single neuron output with no squashing function.</li>\n",
    "    <li>training function =  MSE (mean squared error)</li>\n",
    "</ul>"
   ]
  },
  {
   "cell_type": "markdown",
   "metadata": {
    "slideshow": {
     "slide_type": "slide"
    }
   },
   "source": [
    "<h2 align=\"center\"> Mixture Density Networks </h2>\n",
    "\n",
    "\n",
    "<img src=\"images/mdn_unimodal.png\"/>\n",
    "\n",
    "Modelling complicated real-valued data that might not be \"normal\".\n",
    "\n",
    "<ul>\n",
    "    <li>Naive approach: single neuron output with no squashing function.</li>\n",
    "    <li>training function =  MSE (mean squared error)</li>\n",
    "    <li><b>This is same as fitting the data to a single normal distribution</b></li>\n",
    "</ul>"
   ]
  },
  {
   "cell_type": "markdown",
   "metadata": {
    "slideshow": {
     "slide_type": "slide"
    }
   },
   "source": [
    "<h2 align=\"center\"> Mixture Density Networks </h2>\n",
    "\n",
    "\n",
    "<img src=\"images/mdn_multimodal.png\"/>\n"
   ]
  },
  {
   "cell_type": "markdown",
   "metadata": {
    "slideshow": {
     "slide_type": "slide"
    }
   },
   "source": [
    "<h2 align=\"center\"> MDN-RNNS </h2>\n",
    "\n",
    "<img src=\"images/robot_path.png\"/>"
   ]
  },
  {
   "cell_type": "markdown",
   "metadata": {
    "slideshow": {
     "slide_type": "slide"
    }
   },
   "source": [
    "<h2 align=\"center\"> MDN-RNNS </h2>\n",
    "\n",
    "<img src=\"images/mdn_rnn.png\"/>"
   ]
  },
  {
   "cell_type": "markdown",
   "metadata": {
    "slideshow": {
     "slide_type": "slide"
    }
   },
   "source": [
    "<h2 align=\"center\">Use cases</h2>\n",
    "\n",
    "<h3>Sketch RNN</h3>\n",
    "\n",
    "<img src=\"images/sketch_rnn.png\"/>\n",
    "\n",
    "<a href=\"https://magenta.tensorflow.org/assets/sketch_rnn_demo/index.html\">DEMO</a>\n",
    "\n",
    "\n"
   ]
  },
  {
   "cell_type": "markdown",
   "metadata": {
    "slideshow": {
     "slide_type": "slide"
    }
   },
   "source": [
    "<h2 align=\"center\">Use cases</h2>\n",
    "<h3>World Model</h3>\n",
    "\n",
    "<img src=\"images/mdn-rnn-viz.png\"/>\n",
    "\n",
    "<a href=\"https://worldmodels.github.io/\">DEMO</a>"
   ]
  },
  {
   "cell_type": "markdown",
   "metadata": {
    "slideshow": {
     "slide_type": "slide"
    }
   },
   "source": [
    "<h2 align=\"center\">Use cases</h2>\n",
    "<h3>Dancenet</h3>\n",
    "<i>http://github.com/jsn5/dancenet</i>\n",
    "<h4>Dance Generator AI using MDN-RNN and VAE</h4>\n",
    "<img align=\"left\" src=\"images/dancenet_demo.gif\"/>\n",
    "<img align=\"left\" src=\"images/dancenet_demo2.gif\"/>\n"
   ]
  },
  {
   "cell_type": "markdown",
   "metadata": {},
   "source": [
    "<h2 align=\"center\">Use cases</h2>\n",
    "<h3>Dancenet</h3>\n",
    "\n",
    "<img src=\"images/dancenet_vae.png\"/>"
   ]
  },
  {
   "cell_type": "code",
   "execution_count": null,
   "metadata": {},
   "outputs": [],
   "source": []
  }
 ],
 "metadata": {
  "celltoolbar": "Slideshow",
  "kernelspec": {
   "display_name": "Python 3",
   "language": "python",
   "name": "python3"
  },
  "language_info": {
   "codemirror_mode": {
    "name": "ipython",
    "version": 3
   },
   "file_extension": ".py",
   "mimetype": "text/x-python",
   "name": "python",
   "nbconvert_exporter": "python",
   "pygments_lexer": "ipython3",
   "version": "3.6.8"
  }
 },
 "nbformat": 4,
 "nbformat_minor": 2
}
